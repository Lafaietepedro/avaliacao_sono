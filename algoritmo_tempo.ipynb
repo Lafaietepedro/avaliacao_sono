{
 "cells": [
  {
   "cell_type": "markdown",
   "metadata": {},
   "source": [
    "# **Explicação do Código**"
   ]
  },
  {
   "cell_type": "code",
   "execution_count": null,
   "metadata": {},
   "outputs": [],
   "source": [
    "if ear < ear_limiar:\n",
    "    t_inicial = time.time() if dormindo == 0 else t_inicial\n",
    "    dormindo = 1\n",
    "    if dormindo == 1 and ear >= ear_limiar:\n",
    "        dormindo = 0\n",
    "        t_final = time.time()"
   ]
  }
 ],
 "metadata": {
  "kernelspec": {
   "display_name": ".venv",
   "language": "python",
   "name": "python3"
  },
  "language_info": {
   "name": "python",
   "version": "3.12.7"
  }
 },
 "nbformat": 4,
 "nbformat_minor": 2
}
